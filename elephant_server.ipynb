{
  "nbformat": 4,
  "nbformat_minor": 0,
  "metadata": {
    "colab": {
      "name": "elephant_server.ipynb",
      "provenance": [],
      "collapsed_sections": [],
      "toc_visible": true
    },
    "kernelspec": {
      "name": "python3",
      "display_name": "Python 3"
    },
    "accelerator": "GPU"
  },
  "cells": [
    {
      "cell_type": "markdown",
      "metadata": {
        "id": "W9IylGOB34tx"
      },
      "source": [
        "# Download ELEPHANT server"
      ]
    },
    {
      "cell_type": "code",
      "metadata": {
        "id": "MaNy1PRvasxS"
      },
      "source": [
        "%env ELEPHANT_SERVER_VERSION=0.1.0"
      ],
      "execution_count": null,
      "outputs": []
    },
    {
      "cell_type": "code",
      "metadata": {
        "id": "a6-0DmSrh0ah"
      },
      "source": [
        "!wget -q -c -nc https://github.com/elephant-track/elephant-server/releases/download/v$ELEPHANT_SERVER_VERSION/elephant-server-$ELEPHANT_SERVER_VERSION.zip\n",
        "!unzip -qq -n elephant-server-$ELEPHANT_SERVER_VERSION.zip\n",
        "!rm elephant-server-$ELEPHANT_SERVER_VERSION.zip"
      ],
      "execution_count": null,
      "outputs": []
    },
    {
      "cell_type": "markdown",
      "metadata": {
        "id": "XmUpXQ3h3-v3"
      },
      "source": [
        "# Set up conda environment"
      ]
    },
    {
      "cell_type": "code",
      "metadata": {
        "id": "_JIgGJsUh2Ht"
      },
      "source": [
        "!printf \"\\\n",
        "name: base \\n\\\n",
        "channels: \\n\\\n",
        "  - pytorch \\n\\\n",
        "  - conda-forge \\n\\\n",
        "  - main \\n\\\n",
        "  - defaults \\n\\\n",
        "dependencies: \\n\\\n",
        "  - _libgcc_mutex=0.1=main \\n\\\n",
        "  - asciitree=0.3.3=py_2 \\n\\\n",
        "  - asn1crypto=1.2.0=py37_0 \\n\\\n",
        "  - backcall=0.1.0=py37_0 \\n\\\n",
        "  - beautifulsoup4=4.8.2=py37_0 \\n\\\n",
        "  - blas=1.0=mkl \\n\\\n",
        "  - bzip2=1.0.8=h7b6447c_0 \\n\\\n",
        "  - ca-certificates=2021.1.19=h06a4308_0 \\n\\\n",
        "  - certifi=2020.12.5=py37h06a4308_0 \\n\\\n",
        "  - cffi=1.13.0=py37h2e261b9_0 \\n\\\n",
        "  - chardet=3.0.4=py37_1003 \\n\\\n",
        "  - click=7.1.2=pyhd3eb1b0_0 \\n\\\n",
        "  - cloudpickle=1.6.0=py_0 \\n\\\n",
        "  - conda=4.9.2=py37h06a4308_0 \\n\\\n",
        "  - conda-build=3.18.11=py37_0 \\n\\\n",
        "  - conda-package-handling=1.6.0=py37h7b6447c_0 \\n\\\n",
        "  - cryptography=2.8=py37h1ba5d50_0 \\n\\\n",
        "  - cudatoolkit=10.1.243=h6bb024c_0 \\n\\\n",
        "  - cycler=0.10.0=py37_0 \\n\\\n",
        "  - cytoolz=0.11.0=py37h7b6447c_0 \\n\\\n",
        "  - dask-core=2021.2.0=pyhd3eb1b0_0 \\n\\\n",
        "  - decorator=4.4.1=py_0 \\n\\\n",
        "  - fasteners=0.16=pyhd3eb1b0_0 \\n\\\n",
        "  - filelock=3.0.12=py_0 \\n\\\n",
        "  - flask=1.1.2=pyhd3eb1b0_0 \\n\\\n",
        "  - flask-redis=0.4.0=py_0 \\n\\\n",
        "  - freetype=2.9.1=h8a8886c_1 \\n\\\n",
        "  - glob2=0.7=py_0 \\n\\\n",
        "  - h5py=2.10.0=py37hd6299e0_1 \\n\\\n",
        "  - hdf5=1.10.6=hb1b8bf9_0 \\n\\\n",
        "  - icu=58.2=he6710b0_3 \\n\\\n",
        "  - idna=2.8=py37_0 \\n\\\n",
        "  - imageio=2.9.0=py_0 \\n\\\n",
        "  - intel-openmp=2019.4=243 \\n\\\n",
        "  - ipython=7.11.1=py37h39e3cac_0 \\n\\\n",
        "  - ipython_genutils=0.2.0=py37_0 \\n\\\n",
        "  - itsdangerous=1.1.0=py37_0 \\n\\\n",
        "  - jansson=2.11=h516909a_1001 \\n\\\n",
        "  - jedi=0.15.2=py37_0 \\n\\\n",
        "  - jinja2=2.10.3=py_0 \\n\\\n",
        "  - joblib=1.0.1=pyhd3eb1b0_0 \\n\\\n",
        "  - jpeg=9b=h024ee3a_2 \\n\\\n",
        "  - kiwisolver=1.3.1=py37h2531618_0 \\n\\\n",
        "  - libarchive=3.3.3=h5d8350f_5 \\n\\\n",
        "  - libedit=3.1.20181209=hc058e9b_0 \\n\\\n",
        "  - libffi=3.2.1=hd88cf55_4 \\n\\\n",
        "  - libgcc-ng=9.1.0=hdf63c60_0 \\n\\\n",
        "  - libgfortran-ng=7.3.0=hdf63c60_0 \\n\\\n",
        "  - libiconv=1.15=h63c8f33_5 \\n\\\n",
        "  - liblief=0.9.0=h7725739_2 \\n\\\n",
        "  - libpng=1.6.37=hbc83047_0 \\n\\\n",
        "  - libprotobuf=3.14.0=h8c45485_0 \\n\\\n",
        "  - libstdcxx-ng=9.1.0=hdf63c60_0 \\n\\\n",
        "  - libtiff=4.1.0=h2733197_0 \\n\\\n",
        "  - libxml2=2.9.9=hea5a465_1 \\n\\\n",
        "  - lz4-c=1.8.1.2=h14c3975_0 \\n\\\n",
        "  - lzo=2.10=h49e0be7_2 \\n\\\n",
        "  - markupsafe=1.1.1=py37h7b6447c_0 \\n\\\n",
        "  - matplotlib-base=3.2.1=py37hef1b27d_0 \\n\\\n",
        "  - mkl=2019.4=243 \\n\\\n",
        "  - mkl-service=2.3.0=py37he904b0f_0 \\n\\\n",
        "  - mkl_fft=1.0.15=py37ha843d7b_0 \\n\\\n",
        "  - mkl_random=1.1.0=py37hd6b4f25_0 \\n\\\n",
        "  - monotonic=1.5=py_0 \\n\\\n",
        "  - msgpack-python=1.0.2=py37hff7bd54_1 \\n\\\n",
        "  - ncurses=6.1=he6710b0_1 \\n\\\n",
        "  - networkx=2.5=py_0 \\n\\\n",
        "  - ninja=1.9.0=py37hfd86e86_0 \\n\\\n",
        "  - numcodecs=0.7.3=py37h2531618_0 \\n\\\n",
        "  - numpy=1.17.4=py37hc1035e2_0 \\n\\\n",
        "  - numpy-base=1.17.4=py37hde5b4d6_0 \\n\\\n",
        "  - olefile=0.46=py37_0 \\n\\\n",
        "  - openssl=1.1.1j=h27cfd23_0 \\n\\\n",
        "  - parso=0.5.2=py_0 \\n\\\n",
        "  - patchelf=0.10=he6710b0_0 \\n\\\n",
        "  - pcre=8.44=he6710b0_0 \\n\\\n",
        "  - pexpect=4.7.0=py37_0 \\n\\\n",
        "  - pickleshare=0.7.5=py37_0 \\n\\\n",
        "  - pika=1.1.0=pyh9f0ad1d_1 \\n\\\n",
        "  - pillow=7.0.0=py37hb39fc2d_0 \\n\\\n",
        "  - pip=19.3.1=py37_0 \\n\\\n",
        "  - pkginfo=1.5.0.1=py37_0 \\n\\\n",
        "  - prompt_toolkit=3.0.2=py_0 \\n\\\n",
        "  - protobuf=3.14.0=py37h2531618_1 \\n\\\n",
        "  - psutil=5.6.7=py37h7b6447c_0 \\n\\\n",
        "  - ptyprocess=0.6.0=py37_0 \\n\\\n",
        "  - py-lief=0.9.0=py37h7725739_2 \\n\\\n",
        "  - pycosat=0.6.3=py37h14c3975_0 \\n\\\n",
        "  - pycparser=2.19=py37_0 \\n\\\n",
        "  - pygments=2.5.2=py_0 \\n\\\n",
        "  - pyopenssl=19.0.0=py37_0 \\n\\\n",
        "  - pyparsing=2.4.7=pyhd3eb1b0_0 \\n\\\n",
        "  - pysocks=1.7.1=py37_0 \\n\\\n",
        "  - python=3.7.4=h265db76_1 \\n\\\n",
        "  - python-dateutil=2.8.1=pyhd3eb1b0_0 \\n\\\n",
        "  - python-libarchive-c=2.8=py37_13 \\n\\\n",
        "  - pytorch=1.4.0=py3.7_cuda10.1.243_cudnn7.6.3_0 \\n\\\n",
        "  - pytz=2019.3=py_0 \\n\\\n",
        "  - pywavelets=1.1.1=py37h7b6447c_2 \\n\\\n",
        "  - pyyaml=5.2=py37h7b6447c_0 \\n\\\n",
        "  - readline=7.0=h7b6447c_5 \\n\\\n",
        "  - redis-py=3.5.3=py_0 \\n\\\n",
        "  - requests=2.22.0=py37_0 \\n\\\n",
        "  - ripgrep=11.0.2=he32d670_0 \\n\\\n",
        "  - ruamel_yaml=0.15.46=py37h14c3975_0 \\n\\\n",
        "  - scikit-image=0.17.2=py37hdf5156a_0 \\n\\\n",
        "  - scikit-learn=0.23.1=py37h423224d_0 \\n\\\n",
        "  - scipy=1.4.1=py37h0b6359f_0 \\n\\\n",
        "  - setuptools=41.4.0=py37_0 \\n\\\n",
        "  - six=1.12.0=py37_0 \\n\\\n",
        "  - soupsieve=1.9.5=py37_0 \\n\\\n",
        "  - sqlite=3.30.0=h7b6447c_0 \\n\\\n",
        "  - tensorboardx=2.1=py_0 \\n\\\n",
        "  - threadpoolctl=2.1.0=pyh5ca1d4c_0 \\n\\\n",
        "  - tifffile=2020.10.1=py37hdd07704_2 \\n\\\n",
        "  - tk=8.6.8=hbc83047_0 \\n\\\n",
        "  - toolz=0.11.1=pyhd3eb1b0_0 \\n\\\n",
        "  - torchvision=0.5.0=py37_cu101 \\n\\\n",
        "  - tornado=6.1=py37h27cfd23_0 \\n\\\n",
        "  - tqdm=4.48.2=py_0 \\n\\\n",
        "  - traitlets=4.3.3=py37_0 \\n\\\n",
        "  - urllib3=1.24.2=py37_0 \\n\\\n",
        "  - uwsgi=2.0.18=py37hd004684_2 \\n\\\n",
        "  - wcwidth=0.1.7=py37_0 \\n\\\n",
        "  - werkzeug=1.0.1=pyhd3eb1b0_0 \\n\\\n",
        "  - wheel=0.33.6=py37_0 \\n\\\n",
        "  - xz=5.2.4=h14c3975_4 \\n\\\n",
        "  - yaml=0.1.7=had09818_2 \\n\\\n",
        "  - zarr=2.4.0=py_0 \\n\\\n",
        "  - zlib=1.2.11=h7b6447c_3 \\n\\\n",
        "  - zstd=1.3.7=h0b5b093_0 \\n\\\n",
        "  - pip: \\n\\\n",
        "    - ./elephant-server-0.1.0/elephant-core  \\\n",
        "\" > environment.yml"
      ],
      "execution_count": null,
      "outputs": []
    },
    {
      "cell_type": "code",
      "metadata": {
        "id": "CrfCHDcdh3mF"
      },
      "source": [
        "# Acknowledgements:\n",
        "#     https://donaldsrepo.github.io/Notebooks/GoogleColabCondaCreateEnv.html\n",
        "conda_path = ''\n",
        "try:\n",
        "    conda_path = !which conda\n",
        "finally:\n",
        "    print('')\n",
        "\n",
        "if (len(conda_path) == 0):\n",
        "    print('installing miniconda')\n",
        "    !wget https://repo.continuum.io/miniconda/Miniconda3-4.5.4-Linux-x86_64.sh\n",
        "    !bash Miniconda3-4.5.4-Linux-x86_64.sh -bfp /usr/local\n",
        "    !rm Miniconda3-4.5.4-Linux-x86_64.sh\n",
        "    !conda update conda -y -q\n",
        "    !source /usr/local/etc/profile.d/conda.sh\n",
        "    !conda init    \n",
        "else:\n",
        "    print('found miniconda')\n",
        "\n",
        "!conda env update -f environment.yml"
      ],
      "execution_count": null,
      "outputs": []
    },
    {
      "cell_type": "markdown",
      "metadata": {
        "id": "WsEClvbF4Eqh"
      },
      "source": [
        "# Prepare Demo dataset"
      ]
    },
    {
      "cell_type": "code",
      "metadata": {
        "id": "LGChUBpDh5Py"
      },
      "source": [
        "# Set up dirs\n",
        "!mkdir -p /workspace/models\n",
        "!mkdir -p /workspace/datasets/elephant-demo\n",
        "# Download files\n",
        "!curl -L https://zenodo.org/record/4549193/files/elephant-demo.h5?download=1 \\\n",
        "  -o /workspace/datasets/elephant-demo/elephant-demo.h5\n",
        "!curl -L https://zenodo.org/record/4549193/files/elephant-demo.xml?download=1 \\\n",
        "  -o /workspace/datasets/elephant-demo/elephant-demo.xml\n",
        "# Run script\n",
        "!python /content/elephant-server-$ELEPHANT_SERVER_VERSION/script/dataset_generator.py \\\n",
        "  --uint16 /workspace/datasets/elephant-demo/elephant-demo.h5 /workspace/datasets/elephant-demo"
      ],
      "execution_count": null,
      "outputs": []
    },
    {
      "cell_type": "markdown",
      "metadata": {
        "id": "VeJqQlMa4Owl"
      },
      "source": [
        "# Install apt packages"
      ]
    },
    {
      "cell_type": "code",
      "metadata": {
        "id": "9a8LS0q0h94r"
      },
      "source": [
        "!apt-get update && apt-get install --no-install-recommends --no-install-suggests -y \\\n",
        "    nginx \\\n",
        "    redis-server \\\n",
        "    supervisor \\\n",
        "    ca-certificates \\\n",
        "    curl \\\n",
        "    gnupg \\\n",
        "    gosu \\\n",
        "    openssh-server \\\n",
        "    pwgen"
      ],
      "execution_count": null,
      "outputs": []
    },
    {
      "cell_type": "markdown",
      "metadata": {
        "id": "HPix45234Wky"
      },
      "source": [
        "# Install RabbitMQ"
      ]
    },
    {
      "cell_type": "code",
      "metadata": {
        "id": "lDzE0j1DiAIu"
      },
      "source": [
        "!curl -fsSL https://github.com/rabbitmq/signing-keys/releases/download/2.0/rabbitmq-release-signing-key.asc | apt-key add - && \\\n",
        "    apt-get update \\\n",
        "    && apt-get install --no-install-recommends --no-install-suggests -y \\\n",
        "    apt-transport-https && \\\n",
        "    echo 'deb http://dl.bintray.com/rabbitmq-erlang/debian bionic erlang-22.x\\ndeb https://dl.bintray.com/rabbitmq/debian bionic main' >> /etc/apt/sources.list.d/bintray.rabbitmq.list && \\\n",
        "    echo 'Package: erlang*\\nPin: release o=Bintray\\nPin-Priority: 1000' >> /etc/apt/preferences.d/erlang && \\\n",
        "    apt-get update \\\n",
        "    && apt-get install --no-install-recommends --no-install-suggests -y \\\n",
        "    rabbitmq-server"
      ],
      "execution_count": null,
      "outputs": []
    },
    {
      "cell_type": "markdown",
      "metadata": {
        "id": "kWUnujtz4fzz"
      },
      "source": [
        "# Set up services"
      ]
    },
    {
      "cell_type": "code",
      "metadata": {
        "id": "sWDwbcuhiEBt"
      },
      "source": [
        "# Set up RabbitMQ\n",
        "%env RABBITMQ_USER=user\n",
        "%env RABBITMQ_PASSWORD=user\n",
        "%env RABBITMQ_PID_FILE=/var/lib/rabbitmq/mnesia/rabbitmq.pid\n",
        "!cp /content/elephant-server-$ELEPHANT_SERVER_VERSION/docker/rabbitmq.sh /rabbitmq.sh\n",
        "!sed -i 's;--timeout 60 ;;g' /rabbitmq.sh\n",
        "!chmod +x /rabbitmq.sh\n",
        "# Set up nginx\n",
        "!cp /content/elephant-server-$ELEPHANT_SERVER_VERSION/docker/nginx.conf /etc/nginx/nginx.conf\n",
        "!groupadd nginx && useradd -g nginx nginx\n",
        "!ln -sf /dev/stdout /var/log/nginx/access.log\n",
        "!ln -sf /dev/stderr /var/log/nginx/error.log\n",
        "# Set up uWSGI\n",
        "!mkdir -p /etc/uwsgi\n",
        "!cp /content/elephant-server-$ELEPHANT_SERVER_VERSION/docker/uwsgi.ini /etc/uwsgi/uwsgi.ini\n",
        "!cp -a /content/elephant-server-$ELEPHANT_SERVER_VERSION/app /app\n",
        "!useradd -u 0 -o -m user\n",
        "%env UWSGI_UID=user\n",
        "%env UWSGI_GID=user\n",
        "# Set up supervisor\n",
        "!cp /content/elephant-server-$ELEPHANT_SERVER_VERSION/docker/supervisord.conf /etc/supervisor/conf.d/supervisord.conf\n",
        "!sed -i 's;/opt/conda/bin/uwsgi;uwsgi;g' /etc/supervisor/conf.d/supervisord.conf\n",
        "# Set up sshd\n",
        "!mkdir -p /var/run/sshd\n",
        "!grep -qxF \"PermitRootLogin yes\" /etc/ssh/sshd_config || echo \"PermitRootLogin yes\" >> /etc/ssh/sshd_config\n",
        "!grep -qxF \"PasswordAuthentication yes\" /etc/ssh/sshd_config || echo \"PasswordAuthentication yes\" >> /etc/ssh/sshd_config"
      ],
      "execution_count": null,
      "outputs": []
    },
    {
      "cell_type": "markdown",
      "metadata": {
        "id": "MAiUxDkr7RTD"
      },
      "source": [
        "# Download ngrok"
      ]
    },
    {
      "cell_type": "code",
      "metadata": {
        "id": "RdzQk8ai5p-K"
      },
      "source": [
        "!wget -q -c -nc https://bin.equinox.io/c/4VmDzA7iaHb/ngrok-stable-linux-amd64.zip\n",
        "!unzip -qq -n ngrok-stable-linux-amd64.zip -d /opt/ngrok\n",
        "!rm ngrok-stable-linux-amd64.zip"
      ],
      "execution_count": null,
      "outputs": []
    },
    {
      "cell_type": "markdown",
      "metadata": {
        "id": "A_dxnNSqILLH"
      },
      "source": [
        "# Run sshd with ngrok and start services"
      ]
    },
    {
      "cell_type": "code",
      "metadata": {
        "id": "WqDysO6biGfc"
      },
      "source": [
        "# Acknowledgements:\n",
        "# @Tamlyn https://stackoverflow.com/a/53252985\n",
        "import getpass\n",
        "import json\n",
        "import random\n",
        "import string\n",
        "import urllib.request\n",
        "import time\n",
        "\n",
        "#Generate root password\n",
        "password = ''.join(random.choice(string.ascii_letters + string.digits) for i in range(20))\n",
        "\n",
        "#Set root password\n",
        "!echo root:$password | chpasswd\n",
        "\n",
        "#Run sshd\n",
        "get_ipython().system_raw('/usr/sbin/sshd -D &')\n",
        "\n",
        "#Ask token\n",
        "print(\"Copy authtoken from https://dashboard.ngrok.com/auth\")\n",
        "authtoken = getpass.getpass()\n",
        "\n",
        "#Create tunnel\n",
        "get_ipython().system_raw('/opt/ngrok/ngrok authtoken $authtoken && /opt/ngrok/ngrok tcp 22 &')\n",
        "\n",
        "#Get public address and print connect command\n",
        "time.sleep(1)\n",
        "with urllib.request.urlopen('http://localhost:4040/api/tunnels') as response:\n",
        "  data = json.loads(response.read().decode())\n",
        "  for tunnel in data['tunnels']:\n",
        "    if tunnel['name'] == 'command_line':\n",
        "      (host, port) = tunnel['public_url'][6:].split(':')\n",
        "      print(f'SSH command: ssh -p{port} root@{host}')\n",
        "\n",
        "#Print root password\n",
        "print(f'Root password: {password}')\n",
        "\n",
        "# Run services\n",
        "%cd /app\n",
        "!/usr/bin/supervisord"
      ],
      "execution_count": null,
      "outputs": []
    },
    {
      "cell_type": "code",
      "metadata": {
        "id": "xb8Qatj0xztS"
      },
      "source": [
        ""
      ],
      "execution_count": null,
      "outputs": []
    }
  ]
}